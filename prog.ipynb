{
 "cells": [
  {
   "cell_type": "code",
   "execution_count": 2,
   "metadata": {},
   "outputs": [],
   "source": [
    "import numpy as np"
   ]
  },
  {
   "cell_type": "code",
   "execution_count": 3,
   "metadata": {},
   "outputs": [],
   "source": [
    "# pongo esto para probar \n",
    "c_orig= [62,  18, -34, -88, -97, -24,  19, -15,  31, -13, -63,  81,  -3,  63,   0,   0,   0,   0,   0,   0,] \n",
    "\n",
    "A = np.array([\n",
    "    [-42, -35,  68,  50,  73,  64, -44,  -4,  36, -45, -89,  88,  75, -44,  0,  0,  0,  0,  0,  0], \n",
    "    [ 49, -51,  32,  73,  32, -96,  33,  20,  61, -77,  97,   4, -56,   3,  0,  0,  0,  0,  0,  0], \n",
    "    [ 21, -26, -86, -68,  31,   1, -10,  84,  13, -62,  -1,  10,  68,  96,  0,  0,  0,  0,  0,  0], \n",
    "    [ 49,  92, -39,  66, -89,  -5,  95,  55, -24,  71,   7,  14,  23,  70,  0,  0,  0,  0,  0,  0], \n",
    "    [ 73,  61,  93,  96,  66,  99,  76,  53,  78,  55,  91,  68,  68,  54,  1,  0,  0,  0,  0,  0], \n",
    "    [-29,  17, -42,  94, -60,  28,  21,  74,  99,  31, -15,   6, -29, -15,  0,  1,  0,  0,  0,  0], \n",
    "    [-97,  51, -91,  41, -57,  16,  92,  81, -35,  36,  72,  -6,  22,  14,  0,  0,  1,  0,  0,  0], \n",
    "    [-76,  27,  17,  69,  80, -51,   5,  65, -87,   6, -72,  20, -78,  88,  0,  0,  0, -1,  0,  0], \n",
    "    [ 69,  -1,  44,  20, -81,  27,  71, -41,  85,  91, -58,   7, -41, -30,  0,  0,  0,  0,  1,  0], \n",
    "    [ -5,  87, -60,  15,  94,  65,  76,  69,  62, -20, -14,  68,  53,  96,  0,  0,  0,  0,  0, -1]\n",
    "])\n",
    "\n",
    "b= np.array([151 , 124,   71,  385, 1032,  181,  140,   12,  163 , 585])\n"
   ]
  },
  {
   "cell_type": "code",
   "execution_count": 4,
   "metadata": {},
   "outputs": [],
   "source": [
    "def añadir_variables_artificiales(A, b):\n",
    "    vars = []\n",
    "    for v in b:\n",
    "        if v >= 0:\n",
    "            vars.append(1)\n",
    "        else:\n",
    "            vars.append(-1)\n",
    "    array = np.array(vars)\n",
    "    # Crear una matriz diagonal\n",
    "    matriz_diagonal = np.diag(array)\n",
    "    # Usamos np.hstack para apilar horizontalmente\n",
    "    resultado = np.hstack((A, matriz_diagonal))\n",
    "    return resultado\n",
    "\n",
    "r = añadir_variables_artificiales(A, b)"
   ]
  },
  {
   "cell_type": "code",
   "execution_count": null,
   "metadata": {},
   "outputs": [],
   "source": [
    "\"\"\" <pseudo-codigo Todo el programa >\n",
    "\n",
    "def simplexII (A, b, c, B_ini):\n",
    "    bool_acotado = True\n",
    "    n var, m eq,\n",
    "    N_ini = 1..n not in B_ini\n",
    "    x_i = [0...0]\n",
    "    x_b = B^-1 b \n",
    "    poner x_b  en x_i segun los indices de B_ini \n",
    "    bucle iteraciones del simplex, while seguramente\n",
    "        B = columna iessima de A bucle por A i s en B_ini\n",
    "        An =\n",
    "        cn = de c\n",
    "        cb = \n",
    "        algebra lineal, calcular r, con bland miras la q\n",
    "        d descens -B -1 Aq\n",
    "        tethas i la variable que sale p \n",
    "        buscas q en N_ini, y p en B_ini, y las intercambias\n",
    "    \n",
    "        cuando acaba\n",
    "        - d >= 0 no acotado \n",
    "        - costes >= 0 acaba estas en optimo, return\n",
    "\n",
    "    return B_optima, z , bool_acotado\n",
    "\n",
    "    \n",
    "def simplexDefinitu (A,b,c):\n",
    "    n variables ,m eq\n",
    "    A_inicial = A + variables 1s o -1 depende de b \n",
    "    b_inicial = b \n",
    "    c_inicial = [0,0,0,0, 1,1,1]\n",
    "    B_inicial = [n,n+m]\n",
    "    B_ini_II, z_inicial, _ = simplexII(A_inicial,b_inicial,c_inicial,B_inicial)\n",
    "    if (z_inicial != 0):\n",
    "        return None,None,None,False #sera no factible\n",
    "    B_optima, z , bool_acotado = simplexII(A,b,c,B_ini_II)\n",
    "\n",
    "    return B_optima, z , bool_acotado, True (si es fatible o no)\n",
    "\"\"\""
   ]
  },
  {
   "cell_type": "code",
   "execution_count": 37,
   "metadata": {},
   "outputs": [],
   "source": [
    "def SimplexFaseII(A, b, c, B_ini, B_indices):\n",
    "    bool_acotado = True\n",
    "    m,n = A.shape\n",
    "    N_ini = set(i for i in range(n) if i not in B_indices) # Antes:(n+1)\n",
    "    x_ini = [0]*n\n",
    "    x_b = np.linalg.inv(B_ini) @ b # con @ se multiplican matrices en numpy\n",
    "    j = 0 #para añadir en orden los x_b\n",
    "    for i in B_indices:\n",
    "        x_ini[i] = x_b[j]\n",
    "        j+=1\n",
    "    while True:#####################################################################################\n",
    "        B_indices = sorted(B_indices)\n",
    "        B_may = A[:, B_indices] # le he cambiado el nombre porque si no era una constante\n",
    "        N_ini = sorted(N_ini)\n",
    "        A_n = A[:, N_ini]\n",
    "        cn = np.array([c[i] for i in N_ini])\n",
    "        cb = np.array([c[i] for i in B_indices])\n",
    "        z = cb @ x_b\n",
    "        B_inversa = np.linalg.inv(B_may)\n",
    "        #costes reducidos\n",
    "        r = cn - cb @ B_inversa @ A_n # r corresponde a las variables de los indices N_ini\n",
    "        if np.all(r >= 0):\n",
    "            return B_indices, z, bool_acotado, B_may\n",
    "        i = 0\n",
    "        minimo = 0\n",
    "        for j in range(len(r)):\n",
    "            if r[j] < minimo:\n",
    "                minimo = r[j]\n",
    "                i = j\n",
    "            #elif r[j] == minimo: # Deberiamos elegir el del indice menor pero como N_ini esta ordenado ya habriamos elegido el del menor indice\n",
    "        q = N_ini[i] # variable q tiene que entrar en la base \n",
    "        #direccion de descenso \n",
    "        d_b = -B_inversa @ A[:, q]\n",
    "        if np.all(d_b >= 0):\n",
    "            bool_acotado = False\n",
    "            return None, None, bool_acotado, None\n",
    "        \n",
    "        #tetha y variable de salida\n",
    "        p = 0\n",
    "        theta = float('inf')\n",
    "        for w in range(len(d_b)):\n",
    "            if d_b[w] < 0:\n",
    "                val = -x_b[w]/d_b[w]\n",
    "                if val < theta:\n",
    "                    theta, p = val, w\n",
    "        \n",
    "        #Actualizaciones\n",
    "        x_b = x_b + theta*d_b\n",
    "        z = z + theta * r[i]\n",
    "        var_saliente, B_indices[p] = B_indices[p], q\n",
    "        N_ini.remove(q) \n",
    "        N_ini.append(var_saliente)\n",
    "        \n",
    "\n",
    "        \n",
    "\n",
    "                    \n",
    "\n",
    "        \n",
    "    "
   ]
  },
  {
   "cell_type": "code",
   "execution_count": 32,
   "metadata": {},
   "outputs": [],
   "source": [
    "def SimplexFaseI(A, b, c):\n",
    "    m, n = A.shape #las filas son m (el numero de restr.) y n son las columnas (num de variables)\n",
    "    A_inicial = añadir_variables_artificiales(A, b)\n",
    "    b_inicial = b \n",
    "    c_inicial = [0]*n + [1]*m # ojo q sale vertical ! hay q trasponer??\n",
    "    B_inicial = A_inicial[:,n:]\n",
    "    B_indices = set(i for i in range(n, n+m)) #set para que sea mas eficiente buscar indices\n",
    "    B_indices_II, z_inicial, _,B_ini_II  = SimplexFaseII(A_inicial,b_inicial,c_inicial,B_inicial, B_indices)\n",
    "    if (z_inicial != 0):\n",
    "        return None,None,None,False #sera no factible\n",
    "    \n",
    "    B_indices_opt, z , bool_acotado, B_optima = SimplexFaseII(A,b,c,B_ini_II,B_indices_II)\n",
    "\n",
    "    return B_optima, z , bool_acotado, True\n",
    "\n"
   ]
  },
  {
   "cell_type": "markdown",
   "metadata": {},
   "source": [
    "Prueba del algoritmo:"
   ]
  },
  {
   "cell_type": "code",
   "execution_count": 38,
   "metadata": {},
   "outputs": [
    {
     "name": "stdout",
     "output_type": "stream",
     "text": [
      "[[1 1]\n",
      " [1 0]] 0.0 True True\n"
     ]
    }
   ],
   "source": [
    "c_prueba = [-1,-2,0,0]\n",
    "A_prueba = np.array([[2,1,1,0],[1,1,0,1]])\n",
    "b_prueba = np.array([3,2])\n",
    "opt, zeta, acotado, bool_res = SimplexFaseI(A_prueba,b_prueba,c_prueba)\n",
    "print(opt,zeta,acotado,bool_res)"
   ]
  },
  {
   "cell_type": "markdown",
   "metadata": {},
   "source": [
    "A partir de aqui son pruebas para ver si funciona:"
   ]
  },
  {
   "cell_type": "code",
   "execution_count": 8,
   "metadata": {},
   "outputs": [
    {
     "data": {
      "text/plain": [
       "(10, 20)"
      ]
     },
     "execution_count": 8,
     "metadata": {},
     "output_type": "execute_result"
    }
   ],
   "source": [
    "m, n = A.shape\n",
    "m, n"
   ]
  },
  {
   "cell_type": "code",
   "execution_count": 9,
   "metadata": {},
   "outputs": [
    {
     "name": "stdout",
     "output_type": "stream",
     "text": [
      "{20, 21, 22, 23, 24, 25, 26, 27, 28, 29}\n",
      "{0, 1, 2, 3, 4, 5, 6, 7, 8, 9, 10, 11, 12, 13, 14, 15, 16, 17, 18, 19}\n"
     ]
    }
   ],
   "source": [
    "B_ind = set(i for i in range(n, n+m))\n",
    "print(B_ind)\n",
    "N_ini = set(i for i in range(n + 1) if i not in B_ind)\n",
    "print(N_ini)"
   ]
  },
  {
   "cell_type": "code",
   "execution_count": 10,
   "metadata": {},
   "outputs": [
    {
     "data": {
      "text/plain": [
       "[0,\n",
       " 0,\n",
       " 0,\n",
       " 0,\n",
       " 0,\n",
       " 0,\n",
       " 0,\n",
       " 0,\n",
       " 0,\n",
       " 0,\n",
       " 0,\n",
       " 0,\n",
       " 0,\n",
       " 0,\n",
       " 0,\n",
       " 0,\n",
       " 0,\n",
       " 0,\n",
       " 0,\n",
       " 0,\n",
       " 1,\n",
       " 1,\n",
       " 1,\n",
       " 1,\n",
       " 1,\n",
       " 1,\n",
       " 1,\n",
       " 1,\n",
       " 1,\n",
       " 1]"
      ]
     },
     "execution_count": 10,
     "metadata": {},
     "output_type": "execute_result"
    }
   ],
   "source": [
    "c_incial = [0]*n + [1]*m\n",
    "c_incial"
   ]
  },
  {
   "cell_type": "code",
   "execution_count": 11,
   "metadata": {},
   "outputs": [
    {
     "name": "stdout",
     "output_type": "stream",
     "text": [
      "[[1 0 0 0 0 0 0 0 0 0]\n",
      " [0 1 0 0 0 0 0 0 0 0]\n",
      " [0 0 1 0 0 0 0 0 0 0]\n",
      " [0 0 0 1 0 0 0 0 0 0]\n",
      " [0 0 0 0 1 0 0 0 0 0]\n",
      " [0 0 0 0 0 1 0 0 0 0]\n",
      " [0 0 0 0 0 0 1 0 0 0]\n",
      " [0 0 0 0 0 0 0 1 0 0]\n",
      " [0 0 0 0 0 0 0 0 1 0]\n",
      " [0 0 0 0 0 0 0 0 0 1]]\n"
     ]
    },
    {
     "data": {
      "text/plain": [
       "array([[1., 0., 0., 0., 0., 0., 0., 0., 0., 0.],\n",
       "       [0., 1., 0., 0., 0., 0., 0., 0., 0., 0.],\n",
       "       [0., 0., 1., 0., 0., 0., 0., 0., 0., 0.],\n",
       "       [0., 0., 0., 1., 0., 0., 0., 0., 0., 0.],\n",
       "       [0., 0., 0., 0., 1., 0., 0., 0., 0., 0.],\n",
       "       [0., 0., 0., 0., 0., 1., 0., 0., 0., 0.],\n",
       "       [0., 0., 0., 0., 0., 0., 1., 0., 0., 0.],\n",
       "       [0., 0., 0., 0., 0., 0., 0., 1., 0., 0.],\n",
       "       [0., 0., 0., 0., 0., 0., 0., 0., 1., 0.],\n",
       "       [0., 0., 0., 0., 0., 0., 0., 0., 0., 1.]])"
      ]
     },
     "execution_count": 11,
     "metadata": {},
     "output_type": "execute_result"
    }
   ],
   "source": [
    "B_indices = set(i for i in range(n, n+m))\n",
    "N_ini = set(i for i in range(n + 1) if i not in B_indices)\n",
    "B_i = r[:, n:]\n",
    "print(B_i)\n",
    "np.linalg.inv(B_i)"
   ]
  },
  {
   "cell_type": "code",
   "execution_count": 12,
   "metadata": {},
   "outputs": [
    {
     "data": {
      "text/plain": [
       "array([ 151,  124,   71,  385, 1032,  181,  140,   12,  163,  585])"
      ]
     },
     "execution_count": 12,
     "metadata": {},
     "output_type": "execute_result"
    }
   ],
   "source": [
    "b"
   ]
  },
  {
   "cell_type": "code",
   "execution_count": 13,
   "metadata": {},
   "outputs": [],
   "source": [
    "m, n = r.shape\n"
   ]
  },
  {
   "cell_type": "code",
   "execution_count": 14,
   "metadata": {},
   "outputs": [
    {
     "data": {
      "text/plain": [
       "30"
      ]
     },
     "execution_count": 14,
     "metadata": {},
     "output_type": "execute_result"
    }
   ],
   "source": [
    "x_ini = [0]*n\n",
    "len(x_ini)"
   ]
  },
  {
   "cell_type": "code",
   "execution_count": 15,
   "metadata": {},
   "outputs": [
    {
     "name": "stdout",
     "output_type": "stream",
     "text": [
      "[0, 0, 0, 0, 0, 0, 0, 0, 0, 0, 0, 0, 0, 0, 0, 0, 0, 0, 0, 0, np.float64(151.0), np.float64(124.0), np.float64(71.0), np.float64(385.0), np.float64(1032.0), np.float64(181.0), np.float64(140.0), np.float64(12.0), np.float64(163.0), np.float64(585.0)]\n"
     ]
    }
   ],
   "source": [
    "\n",
    "x_b =  np.dot(np.linalg.inv(B_i), b)\n",
    "j = 0 #para añadir en orden los x_b\n",
    "for i in B_indices:\n",
    "    x_ini[i] = x_b[j]\n",
    "    j+=1\n",
    "    \n",
    "print(x_ini)"
   ]
  },
  {
   "cell_type": "code",
   "execution_count": 17,
   "metadata": {},
   "outputs": [
    {
     "name": "stdout",
     "output_type": "stream",
     "text": [
      "[0, 1, 2, 3, 4, 5, 6, 7, 8, 9, 10, 11, 12, 13, 14, 15, 16, 17, 18, 19]\n",
      "[[-42 -35  68  50  73  64 -44  -4  36 -45 -89  88  75 -44   0   0   0   0\n",
      "    0   0]\n",
      " [ 49 -51  32  73  32 -96  33  20  61 -77  97   4 -56   3   0   0   0   0\n",
      "    0   0]\n",
      " [ 21 -26 -86 -68  31   1 -10  84  13 -62  -1  10  68  96   0   0   0   0\n",
      "    0   0]\n",
      " [ 49  92 -39  66 -89  -5  95  55 -24  71   7  14  23  70   0   0   0   0\n",
      "    0   0]\n",
      " [ 73  61  93  96  66  99  76  53  78  55  91  68  68  54   1   0   0   0\n",
      "    0   0]\n",
      " [-29  17 -42  94 -60  28  21  74  99  31 -15   6 -29 -15   0   1   0   0\n",
      "    0   0]\n",
      " [-97  51 -91  41 -57  16  92  81 -35  36  72  -6  22  14   0   0   1   0\n",
      "    0   0]\n",
      " [-76  27  17  69  80 -51   5  65 -87   6 -72  20 -78  88   0   0   0  -1\n",
      "    0   0]\n",
      " [ 69  -1  44  20 -81  27  71 -41  85  91 -58   7 -41 -30   0   0   0   0\n",
      "    1   0]\n",
      " [ -5  87 -60  15  94  65  76  69  62 -20 -14  68  53  96   0   0   0   0\n",
      "    0  -1]]\n"
     ]
    }
   ],
   "source": [
    "B_indices = sorted(B_indices)\n",
    "B = r[:, B_indices]\n",
    "N_ini = sorted(N_ini)\n",
    "A_n = r[:, N_ini]\n",
    "cn = np.array([c_incial[i] for i in N_ini])\n",
    "cb = np.array([c_incial[i] for i in B_indices])\n",
    "print(N_ini)\n",
    "print(A_n)\n"
   ]
  },
  {
   "cell_type": "code",
   "execution_count": 111,
   "metadata": {},
   "outputs": [
    {
     "data": {
      "text/plain": [
       "array([1, 1, 1, 1, 1, 1, 1, 1, 1, 1])"
      ]
     },
     "execution_count": 111,
     "metadata": {},
     "output_type": "execute_result"
    }
   ],
   "source": [
    "cb"
   ]
  },
  {
   "cell_type": "code",
   "execution_count": 113,
   "metadata": {},
   "outputs": [
    {
     "name": "stdout",
     "output_type": "stream",
     "text": [
      "[ -12. -222.   64. -456.  -89. -148. -415. -456. -288.  -86.  -18. -279.\n",
      " -105. -332.   -1.   -1.   -1.    1.   -1.    1.]\n"
     ]
    }
   ],
   "source": [
    "r = cn - cb @ np.linalg.inv(B) @ A_n\n",
    "print(r)"
   ]
  },
  {
   "cell_type": "code",
   "execution_count": 116,
   "metadata": {},
   "outputs": [
    {
     "data": {
      "text/plain": [
       "20"
      ]
     },
     "execution_count": 116,
     "metadata": {},
     "output_type": "execute_result"
    }
   ],
   "source": [
    "len(r)"
   ]
  },
  {
   "cell_type": "code",
   "execution_count": 115,
   "metadata": {},
   "outputs": [
    {
     "data": {
      "text/plain": [
       "np.float64(2844.0)"
      ]
     },
     "execution_count": 115,
     "metadata": {},
     "output_type": "execute_result"
    }
   ],
   "source": [
    "z = cb @ x_b\n",
    "z"
   ]
  }
 ],
 "metadata": {
  "kernelspec": {
   "display_name": "Python 3",
   "language": "python",
   "name": "python3"
  },
  "language_info": {
   "codemirror_mode": {
    "name": "ipython",
    "version": 3
   },
   "file_extension": ".py",
   "mimetype": "text/x-python",
   "name": "python",
   "nbconvert_exporter": "python",
   "pygments_lexer": "ipython3",
   "version": "3.12.0"
  }
 },
 "nbformat": 4,
 "nbformat_minor": 2
}
